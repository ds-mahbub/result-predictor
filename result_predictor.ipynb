{
  "nbformat": 4,
  "nbformat_minor": 0,
  "metadata": {
    "colab": {
      "provenance": []
    },
    "kernelspec": {
      "name": "python3",
      "display_name": "Python 3"
    },
    "language_info": {
      "name": "python"
    }
  },
  "cells": [
    {
      "cell_type": "code",
      "execution_count": null,
      "metadata": {
        "id": "OvnpYyvoelZH"
      },
      "outputs": [],
      "source": [
        "import numpy as np\n",
        "import pandas as pd\n",
        "import seaborn as sns\n",
        "%matplotlib inline"
      ]
    },
    {
      "cell_type": "code",
      "source": [
        "df = pd.read_csv(\"/content/factors.csv\")"
      ],
      "metadata": {
        "id": "OExa73QOewJ7"
      },
      "execution_count": null,
      "outputs": []
    },
    {
      "cell_type": "code",
      "source": [
        "df.sample(5)"
      ],
      "metadata": {
        "colab": {
          "base_uri": "https://localhost:8080/",
          "height": 528
        },
        "id": "mlYBu75Ke8tP",
        "outputId": "b89738a7-1a4d-49f9-dc4d-5c54c0bde555"
      },
      "execution_count": null,
      "outputs": [
        {
          "output_type": "execute_result",
          "data": {
            "text/plain": [
              "              Timestamp       Respondent name                      E-mail  \\\n",
              "185   12/6/2022 1:11:26          Mahin Rayhan   mahinrayhan2016@gmail.com   \n",
              "370  12/6/2022 23:55:44         Nahidul Islam                         NaN   \n",
              "341  12/6/2022 23:06:09          Rifa Nanziba   rifa.nanziba233@gmail.com   \n",
              "184   12/6/2022 1:09:28  Benzir kamal ananna    anannakamaldu93@gmail.com   \n",
              "721  12/9/2022 17:06:29          Sagor sarkar  Sagorsarkarsks17@gmail.com   \n",
              "\n",
              "     Gender    Age  \\\n",
              "185    Male  22-24   \n",
              "370    Male  22-24   \n",
              "341  Female  22-24   \n",
              "184  Female  25-27   \n",
              "721    Male  22-24   \n",
              "\n",
              "    1.  Study Habit  \\nPlease Select all that apply from the below list-\\n  \\\n",
              "185                   I Study 4 hours daily on average                       \n",
              "370  I copy the assignment of friends, I am disturb...                       \n",
              "341                   I Study 4 hours daily on average                       \n",
              "184                    I study less than 4 hours a day                       \n",
              "721                    I study less than 4 hours a day                       \n",
              "\n",
              "    2. Home related aspects\\n  Please Select all that apply from the below list-  \\\n",
              "185  3. I don't live with my parents, 4. Both my pa...                             \n",
              "370  1. I live far from my institute, 3. I don't li...                             \n",
              "341  1. I live far from my institute, 5. I do to mu...                             \n",
              "184                         2. I live near my institue                             \n",
              "721                    1. I live far from my institute                             \n",
              "\n",
              "    3. Learning Facilities\\n  Please Select all that apply from the below list-  \\\n",
              "185          5. Scholarship Facilities are unavailable                            \n",
              "370  1. There is not enough facilities in my instit...                            \n",
              "341                  3. No. of classroom is inadequate                            \n",
              "184                  3. No. of classroom is inadequate                            \n",
              "721                  3. No. of classroom is inadequate                            \n",
              "\n",
              "    4. Proper Guidance\\n  Please Select all that apply from the below list-  \\\n",
              "185                              3. Home tutor is need                        \n",
              "370  2. Teacher's instruction is poor, 3. Home tuto...                        \n",
              "341     1. Parent's motivation and observation is poor                        \n",
              "184                              3. Home tutor is need                        \n",
              "721                              3. Home tutor is need                        \n",
              "\n",
              "    5. Family Monthly Income- 6. Economic Status of family-  \\\n",
              "185               20000-40000                  Mid - middle   \n",
              "370               20000-40000                  lower-middle   \n",
              "341               above 40000                  Mid - middle   \n",
              "184               20000-40000                  Mid - middle   \n",
              "721               20000-40000                  lower-middle   \n",
              "\n",
              "    7. Mothers Educations 8. Fathers Educations 9. Last Exam result GPA/CGPA-  \n",
              "185  college / University  college / University                             A  \n",
              "370            Illiterate               Primary                            A-  \n",
              "341             Secondary  college / University                            B+  \n",
              "184  college / University  college / University                             A  \n",
              "721             Secondary  college / University                             A  "
            ],
            "text/html": [
              "\n",
              "  <div id=\"df-b7c90a3f-59cd-40b3-bf40-c90b03715f47\">\n",
              "    <div class=\"colab-df-container\">\n",
              "      <div>\n",
              "<style scoped>\n",
              "    .dataframe tbody tr th:only-of-type {\n",
              "        vertical-align: middle;\n",
              "    }\n",
              "\n",
              "    .dataframe tbody tr th {\n",
              "        vertical-align: top;\n",
              "    }\n",
              "\n",
              "    .dataframe thead th {\n",
              "        text-align: right;\n",
              "    }\n",
              "</style>\n",
              "<table border=\"1\" class=\"dataframe\">\n",
              "  <thead>\n",
              "    <tr style=\"text-align: right;\">\n",
              "      <th></th>\n",
              "      <th>Timestamp</th>\n",
              "      <th>Respondent name</th>\n",
              "      <th>E-mail</th>\n",
              "      <th>Gender</th>\n",
              "      <th>Age</th>\n",
              "      <th>1.  Study Habit  \\nPlease Select all that apply from the below list-\\n</th>\n",
              "      <th>2. Home related aspects\\n  Please Select all that apply from the below list-</th>\n",
              "      <th>3. Learning Facilities\\n  Please Select all that apply from the below list-</th>\n",
              "      <th>4. Proper Guidance\\n  Please Select all that apply from the below list-</th>\n",
              "      <th>5. Family Monthly Income-</th>\n",
              "      <th>6. Economic Status of family-</th>\n",
              "      <th>7. Mothers Educations</th>\n",
              "      <th>8. Fathers Educations</th>\n",
              "      <th>9. Last Exam result GPA/CGPA-</th>\n",
              "    </tr>\n",
              "  </thead>\n",
              "  <tbody>\n",
              "    <tr>\n",
              "      <th>185</th>\n",
              "      <td>12/6/2022 1:11:26</td>\n",
              "      <td>Mahin Rayhan</td>\n",
              "      <td>mahinrayhan2016@gmail.com</td>\n",
              "      <td>Male</td>\n",
              "      <td>22-24</td>\n",
              "      <td>I Study 4 hours daily on average</td>\n",
              "      <td>3. I don't live with my parents, 4. Both my pa...</td>\n",
              "      <td>5. Scholarship Facilities are unavailable</td>\n",
              "      <td>3. Home tutor is need</td>\n",
              "      <td>20000-40000</td>\n",
              "      <td>Mid - middle</td>\n",
              "      <td>college / University</td>\n",
              "      <td>college / University</td>\n",
              "      <td>A</td>\n",
              "    </tr>\n",
              "    <tr>\n",
              "      <th>370</th>\n",
              "      <td>12/6/2022 23:55:44</td>\n",
              "      <td>Nahidul Islam</td>\n",
              "      <td>NaN</td>\n",
              "      <td>Male</td>\n",
              "      <td>22-24</td>\n",
              "      <td>I copy the assignment of friends, I am disturb...</td>\n",
              "      <td>1. I live far from my institute, 3. I don't li...</td>\n",
              "      <td>1. There is not enough facilities in my instit...</td>\n",
              "      <td>2. Teacher's instruction is poor, 3. Home tuto...</td>\n",
              "      <td>20000-40000</td>\n",
              "      <td>lower-middle</td>\n",
              "      <td>Illiterate</td>\n",
              "      <td>Primary</td>\n",
              "      <td>A-</td>\n",
              "    </tr>\n",
              "    <tr>\n",
              "      <th>341</th>\n",
              "      <td>12/6/2022 23:06:09</td>\n",
              "      <td>Rifa Nanziba</td>\n",
              "      <td>rifa.nanziba233@gmail.com</td>\n",
              "      <td>Female</td>\n",
              "      <td>22-24</td>\n",
              "      <td>I Study 4 hours daily on average</td>\n",
              "      <td>1. I live far from my institute, 5. I do to mu...</td>\n",
              "      <td>3. No. of classroom is inadequate</td>\n",
              "      <td>1. Parent's motivation and observation is poor</td>\n",
              "      <td>above 40000</td>\n",
              "      <td>Mid - middle</td>\n",
              "      <td>Secondary</td>\n",
              "      <td>college / University</td>\n",
              "      <td>B+</td>\n",
              "    </tr>\n",
              "    <tr>\n",
              "      <th>184</th>\n",
              "      <td>12/6/2022 1:09:28</td>\n",
              "      <td>Benzir kamal ananna</td>\n",
              "      <td>anannakamaldu93@gmail.com</td>\n",
              "      <td>Female</td>\n",
              "      <td>25-27</td>\n",
              "      <td>I study less than 4 hours a day</td>\n",
              "      <td>2. I live near my institue</td>\n",
              "      <td>3. No. of classroom is inadequate</td>\n",
              "      <td>3. Home tutor is need</td>\n",
              "      <td>20000-40000</td>\n",
              "      <td>Mid - middle</td>\n",
              "      <td>college / University</td>\n",
              "      <td>college / University</td>\n",
              "      <td>A</td>\n",
              "    </tr>\n",
              "    <tr>\n",
              "      <th>721</th>\n",
              "      <td>12/9/2022 17:06:29</td>\n",
              "      <td>Sagor sarkar</td>\n",
              "      <td>Sagorsarkarsks17@gmail.com</td>\n",
              "      <td>Male</td>\n",
              "      <td>22-24</td>\n",
              "      <td>I study less than 4 hours a day</td>\n",
              "      <td>1. I live far from my institute</td>\n",
              "      <td>3. No. of classroom is inadequate</td>\n",
              "      <td>3. Home tutor is need</td>\n",
              "      <td>20000-40000</td>\n",
              "      <td>lower-middle</td>\n",
              "      <td>Secondary</td>\n",
              "      <td>college / University</td>\n",
              "      <td>A</td>\n",
              "    </tr>\n",
              "  </tbody>\n",
              "</table>\n",
              "</div>\n",
              "      <button class=\"colab-df-convert\" onclick=\"convertToInteractive('df-b7c90a3f-59cd-40b3-bf40-c90b03715f47')\"\n",
              "              title=\"Convert this dataframe to an interactive table.\"\n",
              "              style=\"display:none;\">\n",
              "        \n",
              "  <svg xmlns=\"http://www.w3.org/2000/svg\" height=\"24px\"viewBox=\"0 0 24 24\"\n",
              "       width=\"24px\">\n",
              "    <path d=\"M0 0h24v24H0V0z\" fill=\"none\"/>\n",
              "    <path d=\"M18.56 5.44l.94 2.06.94-2.06 2.06-.94-2.06-.94-.94-2.06-.94 2.06-2.06.94zm-11 1L8.5 8.5l.94-2.06 2.06-.94-2.06-.94L8.5 2.5l-.94 2.06-2.06.94zm10 10l.94 2.06.94-2.06 2.06-.94-2.06-.94-.94-2.06-.94 2.06-2.06.94z\"/><path d=\"M17.41 7.96l-1.37-1.37c-.4-.4-.92-.59-1.43-.59-.52 0-1.04.2-1.43.59L10.3 9.45l-7.72 7.72c-.78.78-.78 2.05 0 2.83L4 21.41c.39.39.9.59 1.41.59.51 0 1.02-.2 1.41-.59l7.78-7.78 2.81-2.81c.8-.78.8-2.07 0-2.86zM5.41 20L4 18.59l7.72-7.72 1.47 1.35L5.41 20z\"/>\n",
              "  </svg>\n",
              "      </button>\n",
              "      \n",
              "  <style>\n",
              "    .colab-df-container {\n",
              "      display:flex;\n",
              "      flex-wrap:wrap;\n",
              "      gap: 12px;\n",
              "    }\n",
              "\n",
              "    .colab-df-convert {\n",
              "      background-color: #E8F0FE;\n",
              "      border: none;\n",
              "      border-radius: 50%;\n",
              "      cursor: pointer;\n",
              "      display: none;\n",
              "      fill: #1967D2;\n",
              "      height: 32px;\n",
              "      padding: 0 0 0 0;\n",
              "      width: 32px;\n",
              "    }\n",
              "\n",
              "    .colab-df-convert:hover {\n",
              "      background-color: #E2EBFA;\n",
              "      box-shadow: 0px 1px 2px rgba(60, 64, 67, 0.3), 0px 1px 3px 1px rgba(60, 64, 67, 0.15);\n",
              "      fill: #174EA6;\n",
              "    }\n",
              "\n",
              "    [theme=dark] .colab-df-convert {\n",
              "      background-color: #3B4455;\n",
              "      fill: #D2E3FC;\n",
              "    }\n",
              "\n",
              "    [theme=dark] .colab-df-convert:hover {\n",
              "      background-color: #434B5C;\n",
              "      box-shadow: 0px 1px 3px 1px rgba(0, 0, 0, 0.15);\n",
              "      filter: drop-shadow(0px 1px 2px rgba(0, 0, 0, 0.3));\n",
              "      fill: #FFFFFF;\n",
              "    }\n",
              "  </style>\n",
              "\n",
              "      <script>\n",
              "        const buttonEl =\n",
              "          document.querySelector('#df-b7c90a3f-59cd-40b3-bf40-c90b03715f47 button.colab-df-convert');\n",
              "        buttonEl.style.display =\n",
              "          google.colab.kernel.accessAllowed ? 'block' : 'none';\n",
              "\n",
              "        async function convertToInteractive(key) {\n",
              "          const element = document.querySelector('#df-b7c90a3f-59cd-40b3-bf40-c90b03715f47');\n",
              "          const dataTable =\n",
              "            await google.colab.kernel.invokeFunction('convertToInteractive',\n",
              "                                                     [key], {});\n",
              "          if (!dataTable) return;\n",
              "\n",
              "          const docLinkHtml = 'Like what you see? Visit the ' +\n",
              "            '<a target=\"_blank\" href=https://colab.research.google.com/notebooks/data_table.ipynb>data table notebook</a>'\n",
              "            + ' to learn more about interactive tables.';\n",
              "          element.innerHTML = '';\n",
              "          dataTable['output_type'] = 'display_data';\n",
              "          await google.colab.output.renderOutput(dataTable, element);\n",
              "          const docLink = document.createElement('div');\n",
              "          docLink.innerHTML = docLinkHtml;\n",
              "          element.appendChild(docLink);\n",
              "        }\n",
              "      </script>\n",
              "    </div>\n",
              "  </div>\n",
              "  "
            ]
          },
          "metadata": {},
          "execution_count": 3
        }
      ]
    },
    {
      "cell_type": "code",
      "source": [
        "df.columns"
      ],
      "metadata": {
        "colab": {
          "base_uri": "https://localhost:8080/"
        },
        "id": "bNTAbvuLe_B5",
        "outputId": "db1a2831-6dd4-4999-f90a-d70ad9a51c51"
      },
      "execution_count": null,
      "outputs": [
        {
          "output_type": "execute_result",
          "data": {
            "text/plain": [
              "Index(['Timestamp', 'Respondent name', 'E-mail', 'Gender', 'Age',\n",
              "       '1.  Study Habit  \\nPlease Select all that apply from the below list-\\n',\n",
              "       '2. Home related aspects\\n  Please Select all that apply from the below list-',\n",
              "       '3. Learning Facilities\\n  Please Select all that apply from the below list-',\n",
              "       '4. Proper Guidance\\n  Please Select all that apply from the below list-',\n",
              "       '5. Family Monthly Income-', '6. Economic Status of family-',\n",
              "       '7. Mothers Educations', '8. Fathers Educations',\n",
              "       '9. Last Exam result GPA/CGPA-'],\n",
              "      dtype='object')"
            ]
          },
          "metadata": {},
          "execution_count": 4
        }
      ]
    },
    {
      "cell_type": "code",
      "source": [
        "df1 = df.rename(columns={\n",
        "   \"1.  Study Habit  \\nPlease Select all that apply from the below list-\\n\": 'hours_studied',\n",
        "   \"2. Home related aspects\\n  Please Select all that apply from the below list-\": 'living criteria',\n",
        "   \"3. Learning Facilities\\n  Please Select all that apply from the below list-\": 'facilities',\n",
        "   \"4. Proper Guidance\\n  Please Select all that apply from the below list-\": 'guidance',\n",
        "   \"5. Family Monthly Income-\":'family_income',\n",
        "   \"6. Economic Status of family-\":'economic_stutus',\n",
        "   \"7. Mothers Educations\":'mothers_education',\n",
        "   \"8. Fathers Educations\":'fathers_education',\n",
        "   \"9. Last Exam result GPA/CGPA-\": 'result'\n",
        "\n",
        "    })"
      ],
      "metadata": {
        "id": "2GCl-qrBfEna"
      },
      "execution_count": null,
      "outputs": []
    },
    {
      "cell_type": "code",
      "source": [
        "df1.columns"
      ],
      "metadata": {
        "colab": {
          "base_uri": "https://localhost:8080/"
        },
        "id": "pTHBPlyYhkIx",
        "outputId": "184c0163-972f-430b-fa7d-dc16bca24c46"
      },
      "execution_count": null,
      "outputs": [
        {
          "output_type": "execute_result",
          "data": {
            "text/plain": [
              "Index(['Timestamp', 'Respondent name', 'E-mail', 'Gender', 'Age',\n",
              "       'hours_studied', 'living criteria', 'facilities', 'guidance',\n",
              "       'family_income', 'economic_stutus', 'mothers_education',\n",
              "       'fathers_education', 'result'],\n",
              "      dtype='object')"
            ]
          },
          "metadata": {},
          "execution_count": 6
        }
      ]
    },
    {
      "cell_type": "code",
      "source": [
        "df1.head()"
      ],
      "metadata": {
        "colab": {
          "base_uri": "https://localhost:8080/",
          "height": 511
        },
        "id": "RmykAKMQg9eu",
        "outputId": "02c63ef4-2902-4a3d-f31e-beb13f8c932b"
      },
      "execution_count": null,
      "outputs": [
        {
          "output_type": "execute_result",
          "data": {
            "text/plain": [
              "             Timestamp                        Respondent name E-mail Gender  \\\n",
              "0  11/26/2022 22:01:53                 Mohammad Sagor Sarker     NaN   Male   \n",
              "1  11/26/2022 22:11:14                                  Anwar    NaN   Male   \n",
              "2  11/26/2022 22:40:14                       Mahfuzur Rahman     NaN   Male   \n",
              "3  11/26/2022 22:46:48  MMD SHAHARIAR SHAHARIAR YOUSUF KAMAL     NaN   Male   \n",
              "4   11/27/2022 0:40:29                     Dipanto guho utsho    NaN   Male   \n",
              "\n",
              "     Age                                      hours_studied  \\\n",
              "0  22-24                   I Study 4 hours daily on average   \n",
              "1  22-24                    I study less than 4 hours a day   \n",
              "2  22-24  I Study 4 hours daily on average, I study more...   \n",
              "3  22-24                   I Study 4 hours daily on average   \n",
              "4  22-24                    I study more than 4 hours a day   \n",
              "\n",
              "                                     living criteria  \\\n",
              "0  2. I live near my institue, 6. I have many bro...   \n",
              "1                    1. I live far from my institute   \n",
              "2  1. I live far from my institute, 3. I don't li...   \n",
              "3  2. I live near my institue, 6. I have many bro...   \n",
              "4                         2. I live near my institue   \n",
              "\n",
              "                                          facilities  \\\n",
              "0  1. There is not enough facilities in my instit...   \n",
              "1          5. Scholarship Facilities are unavailable   \n",
              "2  1. There is not enough facilities in my instit...   \n",
              "3  1. There is not enough facilities in my instit...   \n",
              "4          5. Scholarship Facilities are unavailable   \n",
              "\n",
              "                                            guidance           family_income  \\\n",
              "0  1. Parent's motivation and observation is poor...             20000-40000   \n",
              "1     1. Parent's motivation and observation is poor  Income less than 10000   \n",
              "2                   2. Teacher's instruction is poor             10000-20000   \n",
              "3          5. Home Tutor is teacher of own institute             20000-40000   \n",
              "4                   2. Teacher's instruction is poor             20000-40000   \n",
              "\n",
              "  economic_stutus     mothers_education     fathers_education result  \n",
              "0    Mid - middle               Primary             Secondary     A+  \n",
              "1            Poor            Illiterate             Secondary     A-  \n",
              "2    lower-middle            Illiterate            Illiterate     B-  \n",
              "3    Mid - middle  college / University  college / University     A-  \n",
              "4    Mid - middle  college / University  college / University      C  "
            ],
            "text/html": [
              "\n",
              "  <div id=\"df-59704ef9-bac7-4b4b-9304-d42d5b507ec8\">\n",
              "    <div class=\"colab-df-container\">\n",
              "      <div>\n",
              "<style scoped>\n",
              "    .dataframe tbody tr th:only-of-type {\n",
              "        vertical-align: middle;\n",
              "    }\n",
              "\n",
              "    .dataframe tbody tr th {\n",
              "        vertical-align: top;\n",
              "    }\n",
              "\n",
              "    .dataframe thead th {\n",
              "        text-align: right;\n",
              "    }\n",
              "</style>\n",
              "<table border=\"1\" class=\"dataframe\">\n",
              "  <thead>\n",
              "    <tr style=\"text-align: right;\">\n",
              "      <th></th>\n",
              "      <th>Timestamp</th>\n",
              "      <th>Respondent name</th>\n",
              "      <th>E-mail</th>\n",
              "      <th>Gender</th>\n",
              "      <th>Age</th>\n",
              "      <th>hours_studied</th>\n",
              "      <th>living criteria</th>\n",
              "      <th>facilities</th>\n",
              "      <th>guidance</th>\n",
              "      <th>family_income</th>\n",
              "      <th>economic_stutus</th>\n",
              "      <th>mothers_education</th>\n",
              "      <th>fathers_education</th>\n",
              "      <th>result</th>\n",
              "    </tr>\n",
              "  </thead>\n",
              "  <tbody>\n",
              "    <tr>\n",
              "      <th>0</th>\n",
              "      <td>11/26/2022 22:01:53</td>\n",
              "      <td>Mohammad Sagor Sarker</td>\n",
              "      <td>NaN</td>\n",
              "      <td>Male</td>\n",
              "      <td>22-24</td>\n",
              "      <td>I Study 4 hours daily on average</td>\n",
              "      <td>2. I live near my institue, 6. I have many bro...</td>\n",
              "      <td>1. There is not enough facilities in my instit...</td>\n",
              "      <td>1. Parent's motivation and observation is poor...</td>\n",
              "      <td>20000-40000</td>\n",
              "      <td>Mid - middle</td>\n",
              "      <td>Primary</td>\n",
              "      <td>Secondary</td>\n",
              "      <td>A+</td>\n",
              "    </tr>\n",
              "    <tr>\n",
              "      <th>1</th>\n",
              "      <td>11/26/2022 22:11:14</td>\n",
              "      <td>Anwar</td>\n",
              "      <td>NaN</td>\n",
              "      <td>Male</td>\n",
              "      <td>22-24</td>\n",
              "      <td>I study less than 4 hours a day</td>\n",
              "      <td>1. I live far from my institute</td>\n",
              "      <td>5. Scholarship Facilities are unavailable</td>\n",
              "      <td>1. Parent's motivation and observation is poor</td>\n",
              "      <td>Income less than 10000</td>\n",
              "      <td>Poor</td>\n",
              "      <td>Illiterate</td>\n",
              "      <td>Secondary</td>\n",
              "      <td>A-</td>\n",
              "    </tr>\n",
              "    <tr>\n",
              "      <th>2</th>\n",
              "      <td>11/26/2022 22:40:14</td>\n",
              "      <td>Mahfuzur Rahman</td>\n",
              "      <td>NaN</td>\n",
              "      <td>Male</td>\n",
              "      <td>22-24</td>\n",
              "      <td>I Study 4 hours daily on average, I study more...</td>\n",
              "      <td>1. I live far from my institute, 3. I don't li...</td>\n",
              "      <td>1. There is not enough facilities in my instit...</td>\n",
              "      <td>2. Teacher's instruction is poor</td>\n",
              "      <td>10000-20000</td>\n",
              "      <td>lower-middle</td>\n",
              "      <td>Illiterate</td>\n",
              "      <td>Illiterate</td>\n",
              "      <td>B-</td>\n",
              "    </tr>\n",
              "    <tr>\n",
              "      <th>3</th>\n",
              "      <td>11/26/2022 22:46:48</td>\n",
              "      <td>MMD SHAHARIAR SHAHARIAR YOUSUF KAMAL</td>\n",
              "      <td>NaN</td>\n",
              "      <td>Male</td>\n",
              "      <td>22-24</td>\n",
              "      <td>I Study 4 hours daily on average</td>\n",
              "      <td>2. I live near my institue, 6. I have many bro...</td>\n",
              "      <td>1. There is not enough facilities in my instit...</td>\n",
              "      <td>5. Home Tutor is teacher of own institute</td>\n",
              "      <td>20000-40000</td>\n",
              "      <td>Mid - middle</td>\n",
              "      <td>college / University</td>\n",
              "      <td>college / University</td>\n",
              "      <td>A-</td>\n",
              "    </tr>\n",
              "    <tr>\n",
              "      <th>4</th>\n",
              "      <td>11/27/2022 0:40:29</td>\n",
              "      <td>Dipanto guho utsho</td>\n",
              "      <td>NaN</td>\n",
              "      <td>Male</td>\n",
              "      <td>22-24</td>\n",
              "      <td>I study more than 4 hours a day</td>\n",
              "      <td>2. I live near my institue</td>\n",
              "      <td>5. Scholarship Facilities are unavailable</td>\n",
              "      <td>2. Teacher's instruction is poor</td>\n",
              "      <td>20000-40000</td>\n",
              "      <td>Mid - middle</td>\n",
              "      <td>college / University</td>\n",
              "      <td>college / University</td>\n",
              "      <td>C</td>\n",
              "    </tr>\n",
              "  </tbody>\n",
              "</table>\n",
              "</div>\n",
              "      <button class=\"colab-df-convert\" onclick=\"convertToInteractive('df-59704ef9-bac7-4b4b-9304-d42d5b507ec8')\"\n",
              "              title=\"Convert this dataframe to an interactive table.\"\n",
              "              style=\"display:none;\">\n",
              "        \n",
              "  <svg xmlns=\"http://www.w3.org/2000/svg\" height=\"24px\"viewBox=\"0 0 24 24\"\n",
              "       width=\"24px\">\n",
              "    <path d=\"M0 0h24v24H0V0z\" fill=\"none\"/>\n",
              "    <path d=\"M18.56 5.44l.94 2.06.94-2.06 2.06-.94-2.06-.94-.94-2.06-.94 2.06-2.06.94zm-11 1L8.5 8.5l.94-2.06 2.06-.94-2.06-.94L8.5 2.5l-.94 2.06-2.06.94zm10 10l.94 2.06.94-2.06 2.06-.94-2.06-.94-.94-2.06-.94 2.06-2.06.94z\"/><path d=\"M17.41 7.96l-1.37-1.37c-.4-.4-.92-.59-1.43-.59-.52 0-1.04.2-1.43.59L10.3 9.45l-7.72 7.72c-.78.78-.78 2.05 0 2.83L4 21.41c.39.39.9.59 1.41.59.51 0 1.02-.2 1.41-.59l7.78-7.78 2.81-2.81c.8-.78.8-2.07 0-2.86zM5.41 20L4 18.59l7.72-7.72 1.47 1.35L5.41 20z\"/>\n",
              "  </svg>\n",
              "      </button>\n",
              "      \n",
              "  <style>\n",
              "    .colab-df-container {\n",
              "      display:flex;\n",
              "      flex-wrap:wrap;\n",
              "      gap: 12px;\n",
              "    }\n",
              "\n",
              "    .colab-df-convert {\n",
              "      background-color: #E8F0FE;\n",
              "      border: none;\n",
              "      border-radius: 50%;\n",
              "      cursor: pointer;\n",
              "      display: none;\n",
              "      fill: #1967D2;\n",
              "      height: 32px;\n",
              "      padding: 0 0 0 0;\n",
              "      width: 32px;\n",
              "    }\n",
              "\n",
              "    .colab-df-convert:hover {\n",
              "      background-color: #E2EBFA;\n",
              "      box-shadow: 0px 1px 2px rgba(60, 64, 67, 0.3), 0px 1px 3px 1px rgba(60, 64, 67, 0.15);\n",
              "      fill: #174EA6;\n",
              "    }\n",
              "\n",
              "    [theme=dark] .colab-df-convert {\n",
              "      background-color: #3B4455;\n",
              "      fill: #D2E3FC;\n",
              "    }\n",
              "\n",
              "    [theme=dark] .colab-df-convert:hover {\n",
              "      background-color: #434B5C;\n",
              "      box-shadow: 0px 1px 3px 1px rgba(0, 0, 0, 0.15);\n",
              "      filter: drop-shadow(0px 1px 2px rgba(0, 0, 0, 0.3));\n",
              "      fill: #FFFFFF;\n",
              "    }\n",
              "  </style>\n",
              "\n",
              "      <script>\n",
              "        const buttonEl =\n",
              "          document.querySelector('#df-59704ef9-bac7-4b4b-9304-d42d5b507ec8 button.colab-df-convert');\n",
              "        buttonEl.style.display =\n",
              "          google.colab.kernel.accessAllowed ? 'block' : 'none';\n",
              "\n",
              "        async function convertToInteractive(key) {\n",
              "          const element = document.querySelector('#df-59704ef9-bac7-4b4b-9304-d42d5b507ec8');\n",
              "          const dataTable =\n",
              "            await google.colab.kernel.invokeFunction('convertToInteractive',\n",
              "                                                     [key], {});\n",
              "          if (!dataTable) return;\n",
              "\n",
              "          const docLinkHtml = 'Like what you see? Visit the ' +\n",
              "            '<a target=\"_blank\" href=https://colab.research.google.com/notebooks/data_table.ipynb>data table notebook</a>'\n",
              "            + ' to learn more about interactive tables.';\n",
              "          element.innerHTML = '';\n",
              "          dataTable['output_type'] = 'display_data';\n",
              "          await google.colab.output.renderOutput(dataTable, element);\n",
              "          const docLink = document.createElement('div');\n",
              "          docLink.innerHTML = docLinkHtml;\n",
              "          element.appendChild(docLink);\n",
              "        }\n",
              "      </script>\n",
              "    </div>\n",
              "  </div>\n",
              "  "
            ]
          },
          "metadata": {},
          "execution_count": 7
        }
      ]
    },
    {
      "cell_type": "code",
      "source": [
        "df1.columns"
      ],
      "metadata": {
        "colab": {
          "base_uri": "https://localhost:8080/"
        },
        "id": "mdMAbnRjg_FB",
        "outputId": "7b40b51e-1ade-4704-9736-4c4251f5ec36"
      },
      "execution_count": null,
      "outputs": [
        {
          "output_type": "execute_result",
          "data": {
            "text/plain": [
              "Index(['Timestamp', 'Respondent name', 'E-mail', 'Gender', 'Age',\n",
              "       'hours_studied', 'living criteria', 'facilities', 'guidance',\n",
              "       'family_income', 'economic_stutus', 'mothers_education',\n",
              "       'fathers_education', 'result'],\n",
              "      dtype='object')"
            ]
          },
          "metadata": {},
          "execution_count": 8
        }
      ]
    },
    {
      "cell_type": "code",
      "source": [
        "df = df1.loc[:, ['Gender', 'Age', 'hours_studied', 'economic_stutus', 'mothers_education', 'fathers_education', 'result']]"
      ],
      "metadata": {
        "id": "hL1wq_xQl0xP"
      },
      "execution_count": null,
      "outputs": []
    },
    {
      "cell_type": "code",
      "source": [
        "# df.to_csv('factors_cleaned.csv', index = False)"
      ],
      "metadata": {
        "id": "ZKe8UgINqCwd"
      },
      "execution_count": null,
      "outputs": []
    },
    {
      "cell_type": "code",
      "source": [
        "df.sample(10)"
      ],
      "metadata": {
        "colab": {
          "base_uri": "https://localhost:8080/",
          "height": 363
        },
        "id": "d7wUjAJSmzhA",
        "outputId": "700da251-b710-4c3a-9277-2ad2b23075e2"
      },
      "execution_count": null,
      "outputs": [
        {
          "output_type": "execute_result",
          "data": {
            "text/plain": [
              "     Gender    Age                                      hours_studied  \\\n",
              "606    Male  22-24  I prefer social media more than study, I study...   \n",
              "781    Male  22-24                    I study only when there is exam   \n",
              "22   Female  22-24                    I study only when there is exam   \n",
              "741    Male  22-24                    I study only when there is exam   \n",
              "365    Male  22-24                    I study less than 4 hours a day   \n",
              "540  Female  19-21                    I study less than 4 hours a day   \n",
              "615    Male  22-24                    I study only when there is exam   \n",
              "576    Male  19-21                    I study only when there is exam   \n",
              "130    Male  22-24  I am disturbed when studying, I study only whe...   \n",
              "613    Male  19-21                   I Study 4 hours daily on average   \n",
              "\n",
              "    economic_stutus     mothers_education     fathers_education result  \n",
              "606    lower-middle  college / University  college / University     A+  \n",
              "781    Mid - middle  college / University  college / University     A+  \n",
              "22             Rich             Secondary             Secondary      A  \n",
              "741    Mid - middle             Secondary             Secondary      A  \n",
              "365    Mid - middle            Illiterate            Illiterate      B  \n",
              "540    Mid - middle             Secondary             Secondary      A  \n",
              "615    lower-middle             Secondary             Secondary      B  \n",
              "576    lower-middle               Primary               Primary     A+  \n",
              "130    lower-middle               Primary  college / University      B  \n",
              "613    lower-middle             Secondary  college / University      A  "
            ],
            "text/html": [
              "\n",
              "  <div id=\"df-d1ab44ed-2c7b-43ee-b86b-49dc44719156\">\n",
              "    <div class=\"colab-df-container\">\n",
              "      <div>\n",
              "<style scoped>\n",
              "    .dataframe tbody tr th:only-of-type {\n",
              "        vertical-align: middle;\n",
              "    }\n",
              "\n",
              "    .dataframe tbody tr th {\n",
              "        vertical-align: top;\n",
              "    }\n",
              "\n",
              "    .dataframe thead th {\n",
              "        text-align: right;\n",
              "    }\n",
              "</style>\n",
              "<table border=\"1\" class=\"dataframe\">\n",
              "  <thead>\n",
              "    <tr style=\"text-align: right;\">\n",
              "      <th></th>\n",
              "      <th>Gender</th>\n",
              "      <th>Age</th>\n",
              "      <th>hours_studied</th>\n",
              "      <th>economic_stutus</th>\n",
              "      <th>mothers_education</th>\n",
              "      <th>fathers_education</th>\n",
              "      <th>result</th>\n",
              "    </tr>\n",
              "  </thead>\n",
              "  <tbody>\n",
              "    <tr>\n",
              "      <th>606</th>\n",
              "      <td>Male</td>\n",
              "      <td>22-24</td>\n",
              "      <td>I prefer social media more than study, I study...</td>\n",
              "      <td>lower-middle</td>\n",
              "      <td>college / University</td>\n",
              "      <td>college / University</td>\n",
              "      <td>A+</td>\n",
              "    </tr>\n",
              "    <tr>\n",
              "      <th>781</th>\n",
              "      <td>Male</td>\n",
              "      <td>22-24</td>\n",
              "      <td>I study only when there is exam</td>\n",
              "      <td>Mid - middle</td>\n",
              "      <td>college / University</td>\n",
              "      <td>college / University</td>\n",
              "      <td>A+</td>\n",
              "    </tr>\n",
              "    <tr>\n",
              "      <th>22</th>\n",
              "      <td>Female</td>\n",
              "      <td>22-24</td>\n",
              "      <td>I study only when there is exam</td>\n",
              "      <td>Rich</td>\n",
              "      <td>Secondary</td>\n",
              "      <td>Secondary</td>\n",
              "      <td>A</td>\n",
              "    </tr>\n",
              "    <tr>\n",
              "      <th>741</th>\n",
              "      <td>Male</td>\n",
              "      <td>22-24</td>\n",
              "      <td>I study only when there is exam</td>\n",
              "      <td>Mid - middle</td>\n",
              "      <td>Secondary</td>\n",
              "      <td>Secondary</td>\n",
              "      <td>A</td>\n",
              "    </tr>\n",
              "    <tr>\n",
              "      <th>365</th>\n",
              "      <td>Male</td>\n",
              "      <td>22-24</td>\n",
              "      <td>I study less than 4 hours a day</td>\n",
              "      <td>Mid - middle</td>\n",
              "      <td>Illiterate</td>\n",
              "      <td>Illiterate</td>\n",
              "      <td>B</td>\n",
              "    </tr>\n",
              "    <tr>\n",
              "      <th>540</th>\n",
              "      <td>Female</td>\n",
              "      <td>19-21</td>\n",
              "      <td>I study less than 4 hours a day</td>\n",
              "      <td>Mid - middle</td>\n",
              "      <td>Secondary</td>\n",
              "      <td>Secondary</td>\n",
              "      <td>A</td>\n",
              "    </tr>\n",
              "    <tr>\n",
              "      <th>615</th>\n",
              "      <td>Male</td>\n",
              "      <td>22-24</td>\n",
              "      <td>I study only when there is exam</td>\n",
              "      <td>lower-middle</td>\n",
              "      <td>Secondary</td>\n",
              "      <td>Secondary</td>\n",
              "      <td>B</td>\n",
              "    </tr>\n",
              "    <tr>\n",
              "      <th>576</th>\n",
              "      <td>Male</td>\n",
              "      <td>19-21</td>\n",
              "      <td>I study only when there is exam</td>\n",
              "      <td>lower-middle</td>\n",
              "      <td>Primary</td>\n",
              "      <td>Primary</td>\n",
              "      <td>A+</td>\n",
              "    </tr>\n",
              "    <tr>\n",
              "      <th>130</th>\n",
              "      <td>Male</td>\n",
              "      <td>22-24</td>\n",
              "      <td>I am disturbed when studying, I study only whe...</td>\n",
              "      <td>lower-middle</td>\n",
              "      <td>Primary</td>\n",
              "      <td>college / University</td>\n",
              "      <td>B</td>\n",
              "    </tr>\n",
              "    <tr>\n",
              "      <th>613</th>\n",
              "      <td>Male</td>\n",
              "      <td>19-21</td>\n",
              "      <td>I Study 4 hours daily on average</td>\n",
              "      <td>lower-middle</td>\n",
              "      <td>Secondary</td>\n",
              "      <td>college / University</td>\n",
              "      <td>A</td>\n",
              "    </tr>\n",
              "  </tbody>\n",
              "</table>\n",
              "</div>\n",
              "      <button class=\"colab-df-convert\" onclick=\"convertToInteractive('df-d1ab44ed-2c7b-43ee-b86b-49dc44719156')\"\n",
              "              title=\"Convert this dataframe to an interactive table.\"\n",
              "              style=\"display:none;\">\n",
              "        \n",
              "  <svg xmlns=\"http://www.w3.org/2000/svg\" height=\"24px\"viewBox=\"0 0 24 24\"\n",
              "       width=\"24px\">\n",
              "    <path d=\"M0 0h24v24H0V0z\" fill=\"none\"/>\n",
              "    <path d=\"M18.56 5.44l.94 2.06.94-2.06 2.06-.94-2.06-.94-.94-2.06-.94 2.06-2.06.94zm-11 1L8.5 8.5l.94-2.06 2.06-.94-2.06-.94L8.5 2.5l-.94 2.06-2.06.94zm10 10l.94 2.06.94-2.06 2.06-.94-2.06-.94-.94-2.06-.94 2.06-2.06.94z\"/><path d=\"M17.41 7.96l-1.37-1.37c-.4-.4-.92-.59-1.43-.59-.52 0-1.04.2-1.43.59L10.3 9.45l-7.72 7.72c-.78.78-.78 2.05 0 2.83L4 21.41c.39.39.9.59 1.41.59.51 0 1.02-.2 1.41-.59l7.78-7.78 2.81-2.81c.8-.78.8-2.07 0-2.86zM5.41 20L4 18.59l7.72-7.72 1.47 1.35L5.41 20z\"/>\n",
              "  </svg>\n",
              "      </button>\n",
              "      \n",
              "  <style>\n",
              "    .colab-df-container {\n",
              "      display:flex;\n",
              "      flex-wrap:wrap;\n",
              "      gap: 12px;\n",
              "    }\n",
              "\n",
              "    .colab-df-convert {\n",
              "      background-color: #E8F0FE;\n",
              "      border: none;\n",
              "      border-radius: 50%;\n",
              "      cursor: pointer;\n",
              "      display: none;\n",
              "      fill: #1967D2;\n",
              "      height: 32px;\n",
              "      padding: 0 0 0 0;\n",
              "      width: 32px;\n",
              "    }\n",
              "\n",
              "    .colab-df-convert:hover {\n",
              "      background-color: #E2EBFA;\n",
              "      box-shadow: 0px 1px 2px rgba(60, 64, 67, 0.3), 0px 1px 3px 1px rgba(60, 64, 67, 0.15);\n",
              "      fill: #174EA6;\n",
              "    }\n",
              "\n",
              "    [theme=dark] .colab-df-convert {\n",
              "      background-color: #3B4455;\n",
              "      fill: #D2E3FC;\n",
              "    }\n",
              "\n",
              "    [theme=dark] .colab-df-convert:hover {\n",
              "      background-color: #434B5C;\n",
              "      box-shadow: 0px 1px 3px 1px rgba(0, 0, 0, 0.15);\n",
              "      filter: drop-shadow(0px 1px 2px rgba(0, 0, 0, 0.3));\n",
              "      fill: #FFFFFF;\n",
              "    }\n",
              "  </style>\n",
              "\n",
              "      <script>\n",
              "        const buttonEl =\n",
              "          document.querySelector('#df-d1ab44ed-2c7b-43ee-b86b-49dc44719156 button.colab-df-convert');\n",
              "        buttonEl.style.display =\n",
              "          google.colab.kernel.accessAllowed ? 'block' : 'none';\n",
              "\n",
              "        async function convertToInteractive(key) {\n",
              "          const element = document.querySelector('#df-d1ab44ed-2c7b-43ee-b86b-49dc44719156');\n",
              "          const dataTable =\n",
              "            await google.colab.kernel.invokeFunction('convertToInteractive',\n",
              "                                                     [key], {});\n",
              "          if (!dataTable) return;\n",
              "\n",
              "          const docLinkHtml = 'Like what you see? Visit the ' +\n",
              "            '<a target=\"_blank\" href=https://colab.research.google.com/notebooks/data_table.ipynb>data table notebook</a>'\n",
              "            + ' to learn more about interactive tables.';\n",
              "          element.innerHTML = '';\n",
              "          dataTable['output_type'] = 'display_data';\n",
              "          await google.colab.output.renderOutput(dataTable, element);\n",
              "          const docLink = document.createElement('div');\n",
              "          docLink.innerHTML = docLinkHtml;\n",
              "          element.appendChild(docLink);\n",
              "        }\n",
              "      </script>\n",
              "    </div>\n",
              "  </div>\n",
              "  "
            ]
          },
          "metadata": {},
          "execution_count": 11
        }
      ]
    },
    {
      "cell_type": "code",
      "source": [
        "df.dtypes"
      ],
      "metadata": {
        "colab": {
          "base_uri": "https://localhost:8080/"
        },
        "id": "o_pjDxKbm01-",
        "outputId": "1abb6f37-cc6c-4177-8d56-6c20bf1c5935"
      },
      "execution_count": null,
      "outputs": [
        {
          "output_type": "execute_result",
          "data": {
            "text/plain": [
              "Gender               object\n",
              "Age                  object\n",
              "hours_studied        object\n",
              "economic_stutus      object\n",
              "mothers_education    object\n",
              "fathers_education    object\n",
              "result               object\n",
              "dtype: object"
            ]
          },
          "metadata": {},
          "execution_count": 12
        }
      ]
    },
    {
      "cell_type": "code",
      "source": [
        "df['Age'].unique()"
      ],
      "metadata": {
        "colab": {
          "base_uri": "https://localhost:8080/"
        },
        "id": "xs8oaeDEn1GG",
        "outputId": "d809eef2-1921-43c1-a75b-de04149daeb4"
      },
      "execution_count": null,
      "outputs": [
        {
          "output_type": "execute_result",
          "data": {
            "text/plain": [
              "array(['22-24', '19-21', '16-18', '28-30', '25-27', '<16', '>30'],\n",
              "      dtype=object)"
            ]
          },
          "metadata": {},
          "execution_count": 13
        }
      ]
    },
    {
      "cell_type": "code",
      "source": [
        "df['Age'].replace('<16', '15-16', inplace=True)"
      ],
      "metadata": {
        "id": "IOs-AQz0n5OD"
      },
      "execution_count": null,
      "outputs": []
    },
    {
      "cell_type": "code",
      "source": [
        "df['Age'].replace('>30', '30-32', inplace=True)"
      ],
      "metadata": {
        "id": "WTFLSpMXqiC7"
      },
      "execution_count": null,
      "outputs": []
    },
    {
      "cell_type": "code",
      "source": [
        "df['Age'] = df['Age'].str.split('-').apply(lambda x: int(x[0]))"
      ],
      "metadata": {
        "id": "hr7Yy89LpUmo"
      },
      "execution_count": null,
      "outputs": []
    },
    {
      "cell_type": "code",
      "source": [
        "df[\"economic_stutus\"].unique()"
      ],
      "metadata": {
        "colab": {
          "base_uri": "https://localhost:8080/"
        },
        "id": "ljkw-7scq50L",
        "outputId": "bc989490-4841-4849-ec76-d9a4b798adf3"
      },
      "execution_count": null,
      "outputs": [
        {
          "output_type": "execute_result",
          "data": {
            "text/plain": [
              "array(['Mid - middle', 'Poor', 'lower-middle', 'Rich'], dtype=object)"
            ]
          },
          "metadata": {},
          "execution_count": 17
        }
      ]
    },
    {
      "cell_type": "code",
      "source": [
        "mapping = {'Mid - middle': 2, 'Poor': 0, 'lower-middle': 1, 'Rich': 3}\n",
        "df['economic_stutus'] = df['economic_stutus'].replace(mapping)"
      ],
      "metadata": {
        "id": "bQCSZYmCsNW6"
      },
      "execution_count": null,
      "outputs": []
    },
    {
      "cell_type": "code",
      "source": [
        "df[\"mothers_education\"].unique()"
      ],
      "metadata": {
        "colab": {
          "base_uri": "https://localhost:8080/"
        },
        "id": "XiSxUepjtAds",
        "outputId": "8cbaeddd-4b29-4c98-9900-3417f9561a56"
      },
      "execution_count": null,
      "outputs": [
        {
          "output_type": "execute_result",
          "data": {
            "text/plain": [
              "array(['Primary', 'Illiterate', 'college / University', 'Secondary'],\n",
              "      dtype=object)"
            ]
          },
          "metadata": {},
          "execution_count": 19
        }
      ]
    },
    {
      "cell_type": "code",
      "source": [
        "mapping = {'Illiterate': 0, 'Primary': 1, 'Secondary': 2, 'college / University': 3}\n",
        "df['mothers_education'] = df['mothers_education'].replace(mapping)"
      ],
      "metadata": {
        "id": "l52XqN8TtINS"
      },
      "execution_count": null,
      "outputs": []
    },
    {
      "cell_type": "code",
      "source": [
        "df[\"fathers_education\"].unique()"
      ],
      "metadata": {
        "colab": {
          "base_uri": "https://localhost:8080/"
        },
        "id": "xbz392RCt0Vt",
        "outputId": "0115ddbc-01e0-4f2e-f1da-6f4ecee9cba9"
      },
      "execution_count": null,
      "outputs": [
        {
          "output_type": "execute_result",
          "data": {
            "text/plain": [
              "array(['Secondary', 'Illiterate', 'college / University', 'Primary'],\n",
              "      dtype=object)"
            ]
          },
          "metadata": {},
          "execution_count": 21
        }
      ]
    },
    {
      "cell_type": "code",
      "source": [
        "mapping = {'Illiterate': 0, 'Primary': 1, 'Secondary': 2, 'college / University': 3}\n",
        "df['fathers_education'] = df['fathers_education'].replace(mapping)"
      ],
      "metadata": {
        "id": "PVXKweWGtsrK"
      },
      "execution_count": null,
      "outputs": []
    },
    {
      "cell_type": "code",
      "source": [
        "df['result'].unique()"
      ],
      "metadata": {
        "colab": {
          "base_uri": "https://localhost:8080/"
        },
        "id": "6ARe4AELuGRe",
        "outputId": "0e42ce3e-9266-4b0d-e325-5efce4aa33b8"
      },
      "execution_count": null,
      "outputs": [
        {
          "output_type": "execute_result",
          "data": {
            "text/plain": [
              "array(['A+', 'A-', 'B-', 'C', 'B', 'B+', 'A', 'C+', 'D', 'F'],\n",
              "      dtype=object)"
            ]
          },
          "metadata": {},
          "execution_count": 23
        }
      ]
    },
    {
      "cell_type": "code",
      "source": [
        "mapping = {'A+': 4, 'A':3.75,'A-':3.5, 'B+':3.25, 'B':3.0,'B-':2.75,'C+':2.50, 'C':2.25, 'D':2.0,'F':0}\n",
        "df['result'] = df['result'].replace(mapping)"
      ],
      "metadata": {
        "id": "DzkJ7biSuNTv"
      },
      "execution_count": null,
      "outputs": []
    },
    {
      "cell_type": "code",
      "source": [
        "mapping = {'Male':0, 'Female':1}\n",
        "df['Gender'] = df['Gender'].replace(mapping)"
      ],
      "metadata": {
        "id": "5sxNZ-56Dn-D"
      },
      "execution_count": null,
      "outputs": []
    },
    {
      "cell_type": "code",
      "source": [
        "# df.to_csv('cleaned2.csv', index = False)"
      ],
      "metadata": {
        "id": "_wYQaX_l2Qpq"
      },
      "execution_count": null,
      "outputs": []
    },
    {
      "cell_type": "code",
      "source": [
        "df.sample(10)"
      ],
      "metadata": {
        "colab": {
          "base_uri": "https://localhost:8080/",
          "height": 363
        },
        "id": "F-A0GV4I2e-8",
        "outputId": "f4a8779a-dfdc-4643-8b3b-801064420b2c"
      },
      "execution_count": null,
      "outputs": [
        {
          "output_type": "execute_result",
          "data": {
            "text/plain": [
              "     Gender  Age                                      hours_studied  \\\n",
              "246       0   22  I am disturbed when studying, I study only whe...   \n",
              "460       0   22  I copy the assignment of friends, I study less...   \n",
              "450       0   22                   I Study 4 hours daily on average   \n",
              "520       1   22                    I study only when there is exam   \n",
              "694       0   22                    I study more than 4 hours a day   \n",
              "297       0   22  I am disturbed when studying, I prefer social ...   \n",
              "704       0   22                   I Study 4 hours daily on average   \n",
              "9         0   22                    I study less than 4 hours a day   \n",
              "101       0   22  I am disturbed when studying, I prefer social ...   \n",
              "683       0   22                    I study less than 4 hours a day   \n",
              "\n",
              "     economic_stutus  mothers_education  fathers_education  result  \n",
              "246                1                  2                  3    3.50  \n",
              "460                0                  3                  3    3.75  \n",
              "450                2                  1                  2    3.00  \n",
              "520                1                  3                  3    4.00  \n",
              "694                1                  0                  1    3.25  \n",
              "297                1                  1                  1    3.50  \n",
              "704                1                  2                  3    4.00  \n",
              "9                  2                  0                  2    3.50  \n",
              "101                1                  2                  3    3.25  \n",
              "683                1                  1                  2    3.75  "
            ],
            "text/html": [
              "\n",
              "  <div id=\"df-b340b840-6944-423a-a735-d40519d7584f\">\n",
              "    <div class=\"colab-df-container\">\n",
              "      <div>\n",
              "<style scoped>\n",
              "    .dataframe tbody tr th:only-of-type {\n",
              "        vertical-align: middle;\n",
              "    }\n",
              "\n",
              "    .dataframe tbody tr th {\n",
              "        vertical-align: top;\n",
              "    }\n",
              "\n",
              "    .dataframe thead th {\n",
              "        text-align: right;\n",
              "    }\n",
              "</style>\n",
              "<table border=\"1\" class=\"dataframe\">\n",
              "  <thead>\n",
              "    <tr style=\"text-align: right;\">\n",
              "      <th></th>\n",
              "      <th>Gender</th>\n",
              "      <th>Age</th>\n",
              "      <th>hours_studied</th>\n",
              "      <th>economic_stutus</th>\n",
              "      <th>mothers_education</th>\n",
              "      <th>fathers_education</th>\n",
              "      <th>result</th>\n",
              "    </tr>\n",
              "  </thead>\n",
              "  <tbody>\n",
              "    <tr>\n",
              "      <th>246</th>\n",
              "      <td>0</td>\n",
              "      <td>22</td>\n",
              "      <td>I am disturbed when studying, I study only whe...</td>\n",
              "      <td>1</td>\n",
              "      <td>2</td>\n",
              "      <td>3</td>\n",
              "      <td>3.50</td>\n",
              "    </tr>\n",
              "    <tr>\n",
              "      <th>460</th>\n",
              "      <td>0</td>\n",
              "      <td>22</td>\n",
              "      <td>I copy the assignment of friends, I study less...</td>\n",
              "      <td>0</td>\n",
              "      <td>3</td>\n",
              "      <td>3</td>\n",
              "      <td>3.75</td>\n",
              "    </tr>\n",
              "    <tr>\n",
              "      <th>450</th>\n",
              "      <td>0</td>\n",
              "      <td>22</td>\n",
              "      <td>I Study 4 hours daily on average</td>\n",
              "      <td>2</td>\n",
              "      <td>1</td>\n",
              "      <td>2</td>\n",
              "      <td>3.00</td>\n",
              "    </tr>\n",
              "    <tr>\n",
              "      <th>520</th>\n",
              "      <td>1</td>\n",
              "      <td>22</td>\n",
              "      <td>I study only when there is exam</td>\n",
              "      <td>1</td>\n",
              "      <td>3</td>\n",
              "      <td>3</td>\n",
              "      <td>4.00</td>\n",
              "    </tr>\n",
              "    <tr>\n",
              "      <th>694</th>\n",
              "      <td>0</td>\n",
              "      <td>22</td>\n",
              "      <td>I study more than 4 hours a day</td>\n",
              "      <td>1</td>\n",
              "      <td>0</td>\n",
              "      <td>1</td>\n",
              "      <td>3.25</td>\n",
              "    </tr>\n",
              "    <tr>\n",
              "      <th>297</th>\n",
              "      <td>0</td>\n",
              "      <td>22</td>\n",
              "      <td>I am disturbed when studying, I prefer social ...</td>\n",
              "      <td>1</td>\n",
              "      <td>1</td>\n",
              "      <td>1</td>\n",
              "      <td>3.50</td>\n",
              "    </tr>\n",
              "    <tr>\n",
              "      <th>704</th>\n",
              "      <td>0</td>\n",
              "      <td>22</td>\n",
              "      <td>I Study 4 hours daily on average</td>\n",
              "      <td>1</td>\n",
              "      <td>2</td>\n",
              "      <td>3</td>\n",
              "      <td>4.00</td>\n",
              "    </tr>\n",
              "    <tr>\n",
              "      <th>9</th>\n",
              "      <td>0</td>\n",
              "      <td>22</td>\n",
              "      <td>I study less than 4 hours a day</td>\n",
              "      <td>2</td>\n",
              "      <td>0</td>\n",
              "      <td>2</td>\n",
              "      <td>3.50</td>\n",
              "    </tr>\n",
              "    <tr>\n",
              "      <th>101</th>\n",
              "      <td>0</td>\n",
              "      <td>22</td>\n",
              "      <td>I am disturbed when studying, I prefer social ...</td>\n",
              "      <td>1</td>\n",
              "      <td>2</td>\n",
              "      <td>3</td>\n",
              "      <td>3.25</td>\n",
              "    </tr>\n",
              "    <tr>\n",
              "      <th>683</th>\n",
              "      <td>0</td>\n",
              "      <td>22</td>\n",
              "      <td>I study less than 4 hours a day</td>\n",
              "      <td>1</td>\n",
              "      <td>1</td>\n",
              "      <td>2</td>\n",
              "      <td>3.75</td>\n",
              "    </tr>\n",
              "  </tbody>\n",
              "</table>\n",
              "</div>\n",
              "      <button class=\"colab-df-convert\" onclick=\"convertToInteractive('df-b340b840-6944-423a-a735-d40519d7584f')\"\n",
              "              title=\"Convert this dataframe to an interactive table.\"\n",
              "              style=\"display:none;\">\n",
              "        \n",
              "  <svg xmlns=\"http://www.w3.org/2000/svg\" height=\"24px\"viewBox=\"0 0 24 24\"\n",
              "       width=\"24px\">\n",
              "    <path d=\"M0 0h24v24H0V0z\" fill=\"none\"/>\n",
              "    <path d=\"M18.56 5.44l.94 2.06.94-2.06 2.06-.94-2.06-.94-.94-2.06-.94 2.06-2.06.94zm-11 1L8.5 8.5l.94-2.06 2.06-.94-2.06-.94L8.5 2.5l-.94 2.06-2.06.94zm10 10l.94 2.06.94-2.06 2.06-.94-2.06-.94-.94-2.06-.94 2.06-2.06.94z\"/><path d=\"M17.41 7.96l-1.37-1.37c-.4-.4-.92-.59-1.43-.59-.52 0-1.04.2-1.43.59L10.3 9.45l-7.72 7.72c-.78.78-.78 2.05 0 2.83L4 21.41c.39.39.9.59 1.41.59.51 0 1.02-.2 1.41-.59l7.78-7.78 2.81-2.81c.8-.78.8-2.07 0-2.86zM5.41 20L4 18.59l7.72-7.72 1.47 1.35L5.41 20z\"/>\n",
              "  </svg>\n",
              "      </button>\n",
              "      \n",
              "  <style>\n",
              "    .colab-df-container {\n",
              "      display:flex;\n",
              "      flex-wrap:wrap;\n",
              "      gap: 12px;\n",
              "    }\n",
              "\n",
              "    .colab-df-convert {\n",
              "      background-color: #E8F0FE;\n",
              "      border: none;\n",
              "      border-radius: 50%;\n",
              "      cursor: pointer;\n",
              "      display: none;\n",
              "      fill: #1967D2;\n",
              "      height: 32px;\n",
              "      padding: 0 0 0 0;\n",
              "      width: 32px;\n",
              "    }\n",
              "\n",
              "    .colab-df-convert:hover {\n",
              "      background-color: #E2EBFA;\n",
              "      box-shadow: 0px 1px 2px rgba(60, 64, 67, 0.3), 0px 1px 3px 1px rgba(60, 64, 67, 0.15);\n",
              "      fill: #174EA6;\n",
              "    }\n",
              "\n",
              "    [theme=dark] .colab-df-convert {\n",
              "      background-color: #3B4455;\n",
              "      fill: #D2E3FC;\n",
              "    }\n",
              "\n",
              "    [theme=dark] .colab-df-convert:hover {\n",
              "      background-color: #434B5C;\n",
              "      box-shadow: 0px 1px 3px 1px rgba(0, 0, 0, 0.15);\n",
              "      filter: drop-shadow(0px 1px 2px rgba(0, 0, 0, 0.3));\n",
              "      fill: #FFFFFF;\n",
              "    }\n",
              "  </style>\n",
              "\n",
              "      <script>\n",
              "        const buttonEl =\n",
              "          document.querySelector('#df-b340b840-6944-423a-a735-d40519d7584f button.colab-df-convert');\n",
              "        buttonEl.style.display =\n",
              "          google.colab.kernel.accessAllowed ? 'block' : 'none';\n",
              "\n",
              "        async function convertToInteractive(key) {\n",
              "          const element = document.querySelector('#df-b340b840-6944-423a-a735-d40519d7584f');\n",
              "          const dataTable =\n",
              "            await google.colab.kernel.invokeFunction('convertToInteractive',\n",
              "                                                     [key], {});\n",
              "          if (!dataTable) return;\n",
              "\n",
              "          const docLinkHtml = 'Like what you see? Visit the ' +\n",
              "            '<a target=\"_blank\" href=https://colab.research.google.com/notebooks/data_table.ipynb>data table notebook</a>'\n",
              "            + ' to learn more about interactive tables.';\n",
              "          element.innerHTML = '';\n",
              "          dataTable['output_type'] = 'display_data';\n",
              "          await google.colab.output.renderOutput(dataTable, element);\n",
              "          const docLink = document.createElement('div');\n",
              "          docLink.innerHTML = docLinkHtml;\n",
              "          element.appendChild(docLink);\n",
              "        }\n",
              "      </script>\n",
              "    </div>\n",
              "  </div>\n",
              "  "
            ]
          },
          "metadata": {},
          "execution_count": 37
        }
      ]
    },
    {
      "cell_type": "code",
      "source": [
        "df.isna().sum()"
      ],
      "metadata": {
        "colab": {
          "base_uri": "https://localhost:8080/"
        },
        "id": "fhZ_D0jj_Nru",
        "outputId": "aea868d3-7510-431e-d7fb-8064426ad407"
      },
      "execution_count": null,
      "outputs": [
        {
          "output_type": "execute_result",
          "data": {
            "text/plain": [
              "Gender               0\n",
              "Age                  0\n",
              "hours_studied        0\n",
              "economic_stutus      0\n",
              "mothers_education    0\n",
              "fathers_education    0\n",
              "result               0\n",
              "dtype: int64"
            ]
          },
          "metadata": {},
          "execution_count": 38
        }
      ]
    },
    {
      "cell_type": "code",
      "source": [
        "df.duplicated().sum()"
      ],
      "metadata": {
        "colab": {
          "base_uri": "https://localhost:8080/"
        },
        "id": "BRMz33feBMrw",
        "outputId": "8681c1cf-596c-4d3f-93cd-985e19d0f8a2"
      },
      "execution_count": null,
      "outputs": [
        {
          "output_type": "execute_result",
          "data": {
            "text/plain": [
              "0"
            ]
          },
          "metadata": {},
          "execution_count": 39
        }
      ]
    },
    {
      "cell_type": "code",
      "source": [
        "df.drop_duplicates(inplace = True)"
      ],
      "metadata": {
        "id": "gK7XJhbPDTyK"
      },
      "execution_count": null,
      "outputs": []
    },
    {
      "cell_type": "code",
      "source": [
        "df.shape"
      ],
      "metadata": {
        "colab": {
          "base_uri": "https://localhost:8080/"
        },
        "id": "cqSGz_znDfTu",
        "outputId": "c99013ab-c082-4103-aebd-2a5ec638611b"
      },
      "execution_count": null,
      "outputs": [
        {
          "output_type": "execute_result",
          "data": {
            "text/plain": [
              "(713, 7)"
            ]
          },
          "metadata": {},
          "execution_count": 40
        }
      ]
    },
    {
      "cell_type": "code",
      "source": [
        "df.dtypes"
      ],
      "metadata": {
        "colab": {
          "base_uri": "https://localhost:8080/"
        },
        "id": "RurfR5FtDgYT",
        "outputId": "34052602-4cbf-4f0d-f986-6c0310552945"
      },
      "execution_count": null,
      "outputs": [
        {
          "output_type": "execute_result",
          "data": {
            "text/plain": [
              "Gender                 int64\n",
              "Age                    int64\n",
              "hours_studied         object\n",
              "economic_stutus        int64\n",
              "mothers_education      int64\n",
              "fathers_education      int64\n",
              "result               float64\n",
              "dtype: object"
            ]
          },
          "metadata": {},
          "execution_count": 42
        }
      ]
    },
    {
      "cell_type": "code",
      "source": [],
      "metadata": {
        "id": "rpE8wKiPECNX"
      },
      "execution_count": null,
      "outputs": []
    }
  ]
}